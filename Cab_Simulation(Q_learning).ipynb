{
  "nbformat": 4,
  "nbformat_minor": 0,
  "metadata": {
    "kernelspec": {
      "display_name": "Python 3",
      "language": "python",
      "name": "python3"
    },
    "language_info": {
      "codemirror_mode": {
        "name": "ipython",
        "version": 3
      },
      "file_extension": ".py",
      "mimetype": "text/x-python",
      "name": "python",
      "nbconvert_exporter": "python",
      "pygments_lexer": "ipython3",
      "version": "3.7.6"
    },
    "colab": {
      "name": "Cab Simulation(Q learning).ipynb",
      "provenance": [],
      "toc_visible": true,
      "include_colab_link": true
    }
  },
  "cells": [
    {
      "cell_type": "markdown",
      "metadata": {
        "id": "view-in-github",
        "colab_type": "text"
      },
      "source": [
        "<a href=\"https://colab.research.google.com/github/thepianist9/SmartCab/blob/main/Cab_Simulation(Q_learning).ipynb\" target=\"_parent\"><img src=\"https://colab.research.google.com/assets/colab-badge.svg\" alt=\"Open In Colab\"/></a>"
      ]
    },
    {
      "cell_type": "code",
      "metadata": {
        "id": "cGVteI6sZVrD",
        "colab": {
          "base_uri": "https://localhost:8080/"
        },
        "outputId": "ca6eaf8c-1b4b-4203-e155-f96616b57c98"
      },
      "source": [
        "import gym\n",
        "import numpy as np\n",
        "import random\n",
        "import math\n",
        "from collections import deque\n",
        "import collections\n",
        "import pickle\n",
        "\n",
        "#for text processing\n",
        "from nltk.tokenize import word_tokenize as tk\n",
        "import re\n",
        "import pandas as pd\n",
        "env = gym.make(\"Taxi-v3\").env\n",
        "\n",
        "env.render()"
      ],
      "execution_count": 1,
      "outputs": [
        {
          "output_type": "stream",
          "text": [
            "+---------+\n",
            "|R: | : :G|\n",
            "| : | : : |\n",
            "| : : : : |\n",
            "| | : |\u001b[43m \u001b[0m: |\n",
            "|\u001b[35mY\u001b[0m| : |\u001b[34;1mB\u001b[0m: |\n",
            "+---------+\n",
            "\n"
          ],
          "name": "stdout"
        }
      ]
    },
    {
      "cell_type": "code",
      "metadata": {
        "id": "DRZDXR_IZVrP",
        "colab": {
          "base_uri": "https://localhost:8080/"
        },
        "outputId": "d1e8547f-98e3-427e-c26f-375d8c007f87"
      },
      "source": [
        "city_df = pd.read_csv(\"https://raw.githubusercontent.com/thepianist9/SmartCab/0744b813d851a7d61156a44c6a23e2de85a99a63/city.csv\")\n",
        "all_cities = city_df['location'].tolist()\n",
        "print(\"Locations:\")\n",
        "all_cities"
      ],
      "execution_count": 2,
      "outputs": [
        {
          "output_type": "stream",
          "text": [
            "Locations:\n"
          ],
          "name": "stdout"
        },
        {
          "output_type": "execute_result",
          "data": {
            "text/plain": [
              "['dwarka sector 23', 'dwarka sector 21', 'hauz khaas', 'airport']"
            ]
          },
          "metadata": {
            "tags": []
          },
          "execution_count": 2
        }
      ]
    },
    {
      "cell_type": "markdown",
      "metadata": {
        "id": "Djo5VCBnZVrW"
      },
      "source": [
        "#### There are 4 locations (labeled by different letters), the program picks up the passenger at one location and drops him off at another. We receive +20 points for a successful drop-off and lose 1 point for every time-step it takes. There is also a 10 point penalty for illegal pick-up and drop-off actions.\""
      ]
    },
    {
      "cell_type": "markdown",
      "metadata": {
        "id": "CzdYogZVZVrX"
      },
      "source": [
        "### Fetching Pickup, Destination, and Time information from the sms data."
      ]
    },
    {
      "cell_type": "code",
      "metadata": {
        "id": "6R46LK0VZVre",
        "colab": {
          "base_uri": "https://localhost:8080/"
        },
        "outputId": "f1fff0b7-3c76-4451-88d0-3d915d8d85c5"
      },
      "source": [
        "env.reset() # reset environment to a new, random state\n",
        "env.render()\n",
        "\n",
        "print(\"Action Space {}\".format(env.action_space))\n",
        "print(\"State Space {}\".format(env.observation_space))"
      ],
      "execution_count": 3,
      "outputs": [
        {
          "output_type": "stream",
          "text": [
            "+---------+\n",
            "|R: | : :\u001b[43mG\u001b[0m|\n",
            "| : | : : |\n",
            "| : : : : |\n",
            "| | : | : |\n",
            "|\u001b[35mY\u001b[0m| : |\u001b[34;1mB\u001b[0m: |\n",
            "+---------+\n",
            "\n",
            "Action Space Discrete(6)\n",
            "State Space Discrete(500)\n"
          ],
          "name": "stdout"
        }
      ]
    },
    {
      "cell_type": "code",
      "metadata": {
        "id": "gtx1xeTQZVrk",
        "colab": {
          "base_uri": "https://localhost:8080/"
        },
        "outputId": "0853ae4f-fedd-44fe-d697-0cc188d43f99"
      },
      "source": [
        "#Initialize Q_table\n",
        "import numpy as np\n",
        "\n",
        "state = env.encode(4, 1, 2, 3) # (taxi row, taxi column, passenger index, destination index)\n",
        "print(\"State:\", state)\n",
        "env.s = state\n",
        "env.render()\n"
      ],
      "execution_count": 5,
      "outputs": [
        {
          "output_type": "stream",
          "text": [
            "State: 431\n",
            "+---------+\n",
            "|R: | : :G|\n",
            "| : | : : |\n",
            "| : : : : |\n",
            "| | : | : |\n",
            "|\u001b[34;1mY\u001b[0m|\u001b[43m \u001b[0m: |\u001b[35mB\u001b[0m: |\n",
            "+---------+\n",
            "\n"
          ],
          "name": "stdout"
        }
      ]
    },
    {
      "cell_type": "code",
      "metadata": {
        "id": "tIedlHY9ZVro"
      },
      "source": [
        "q_table = np.zeros([env.observation_space.n, env.action_space.n])"
      ],
      "execution_count": 6,
      "outputs": []
    },
    {
      "cell_type": "markdown",
      "metadata": {
        "id": "Et26_9LyQPu0"
      },
      "source": [
        "#Sample Sms text:\n"
      ]
    },
    {
      "cell_type": "code",
      "metadata": {
        "id": "AkVdPYXLZVru",
        "colab": {
          "base_uri": "https://localhost:8080/",
          "height": 37
        },
        "outputId": "0c9e39c5-3067-4544-f720-d884a535d5b0"
      },
      "source": [
        "sms = pd.read_csv('https://raw.githubusercontent.com/thepianist9/SmartCab/main/sms.txt', names = ['text'])\n",
        "sms.iloc[2]['text']"
      ],
      "execution_count": 7,
      "outputs": [
        {
          "output_type": "execute_result",
          "data": {
            "application/vnd.google.colaboratory.intrinsic+json": {
              "type": "string"
            },
            "text/plain": [
              "'Kindly book a cab for me at 1 PM from hauz khaas to dwarka sector 23'"
            ]
          },
          "metadata": {
            "tags": []
          },
          "execution_count": 7
        }
      ]
    },
    {
      "cell_type": "markdown",
      "metadata": {
        "id": "U3PrhWMOREGX"
      },
      "source": [
        "#Q-Learning Formula:"
      ]
    },
    {
      "cell_type": "markdown",
      "metadata": {
        "id": "vKtkmjCSQq0U"
      },
      "source": [
        "![Screenshot 2021-03-22 at 14.56.16.png](data:image/png;base64,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)"
      ]
    },
    {
      "cell_type": "code",
      "metadata": {
        "id": "M9cYq9PWZVr0",
        "colab": {
          "base_uri": "https://localhost:8080/"
        },
        "outputId": "c7c8477d-7fe1-4469-e16d-8a8e30306a62"
      },
      "source": [
        "%%time\n",
        "import random\n",
        "from IPython.display import clear_output\n",
        "\n",
        "# Create Hyperparameters for our Q-learning algorithm\n",
        "total_epochs = 50000           \n",
        "total_test_episodes = 100       \n",
        "max_steps = 99                   \n",
        "\n",
        "learning_rate = 0.7              \n",
        "gamma = 0.610                      \n",
        "alpha = 0.3\n",
        "# Exploration parameters\n",
        "epsilon = 1.0                   \n",
        "max_epsilon = 1.0                \n",
        "min_epsilon = 0.01               \n",
        "decay_rate = 0.01              "
      ],
      "execution_count": 8,
      "outputs": [
        {
          "output_type": "stream",
          "text": [
            "CPU times: user 12 µs, sys: 3 µs, total: 15 µs\n",
            "Wall time: 18.6 µs\n"
          ],
          "name": "stdout"
        }
      ]
    },
    {
      "cell_type": "markdown",
      "metadata": {
        "id": "6y4ovZ_VQyLF"
      },
      "source": [
        "## Training and Exploiting learned values\n",
        "After enough random exploration of actions, the Q-values tend to converge serving our agent as an action-value function which it can exploit to pick the most optimal action from a given state."
      ]
    },
    {
      "cell_type": "code",
      "metadata": {
        "id": "jjPB4OodZVr7"
      },
      "source": [
        "\"\"\"Training the agent\"\"\"\n",
        "for epoch in range(total_epochs):\n",
        "    # Reset environment\n",
        "    state = env.reset()\n",
        "    step = 0 \n",
        "    done = False\n",
        "    \n",
        "    for step in range(max_steps):\n",
        "        # choose an action in the current state space\n",
        "        exp_expl_tradeoff = random.uniform(0,1)\n",
        "\n",
        "        if exp_expl_tradeoff > epsilon:\n",
        "            action = np.argmax(q_table[state,:])\n",
        "        # else start exploration:\n",
        "        else:\n",
        "            action = env.action_space.sample()\n",
        "            \n",
        "        new_state, reward, done, info = env.step(action) #run one timestep \n",
        "        \n",
        "        # Update Q(s,a):= Q(s,a) + lr [R(s,a) + gamma * max Q(s',a') - Q(s,a)]\n",
        "        q_table[state, action] = q_table[state, action] + learning_rate * (reward + gamma * \n",
        "                                    np.max(q_table[new_state, :]) - q_table[state, action])\n",
        "        state = new_state\n",
        "\n",
        "        if done == True:\n",
        "            break\n",
        "        \n",
        "    epoch += 1\n",
        "    epsilon = min_epsilon + (max_epsilon - min_epsilon) * np.exp(-decay_rate*epoch)#1+e^(-0.01*1)\n",
        "\n",
        "\n",
        "np.save(\"./q_table.npy\", q_table)"
      ],
      "execution_count": 9,
      "outputs": []
    },
    {
      "cell_type": "code",
      "metadata": {
        "id": "NgRo9f9mZVr-"
      },
      "source": [
        "q_table = np.load(\"./q_table.npy\")"
      ],
      "execution_count": 10,
      "outputs": []
    },
    {
      "cell_type": "code",
      "metadata": {
        "id": "kDCkiw2TZVsB"
      },
      "source": [
        "def create_loc_dict(city_df):\n",
        "    loc_dict = {'dwarka sector 23': 0, 'dwarka sector 21': 1, 'hauz khaas':2, 'airport':3}   \n",
        "    return loc_dict"
      ],
      "execution_count": 11,
      "outputs": []
    },
    {
      "cell_type": "code",
      "metadata": {
        "id": "kMqVmS1oZVsI"
      },
      "source": [
        "orig_df = pd.read_csv(r\"https://raw.githubusercontent.com/thepianist9/SmartCab/main/org_df.csv\") \n",
        "def check_pick_up_drop_correction(pick_up, drop, line_num):\n",
        "    org_list = orig_df.iloc[line_num].tolist()\n",
        "    original_origin = org_list[0]\n",
        "    original_destination = org_list[1]\n",
        "    if original_origin == pick_up and original_destination == drop:\n",
        "        return True\n",
        "    else:\n",
        "        return False\n",
        "\n",
        "    "
      ],
      "execution_count": 12,
      "outputs": []
    },
    {
      "cell_type": "code",
      "metadata": {
        "id": "l-us3rK3ZVsL",
        "colab": {
          "base_uri": "https://localhost:8080/"
        },
        "outputId": "f381a811-f648-4f98-a5c3-043da284cdc2"
      },
      "source": [
        "# Evaluate agent's performance after Q-learning\n",
        "\n",
        "total_epochs, total_penalties,wrong_predictions = 0, 0, 0\n",
        "total_reward = []\n",
        "\n",
        "\n",
        "count = 0\n",
        "time_list = []\n",
        "f = open(\"/content/sms.txt\", \"r\")\n",
        "num_of_lines = 1000\n",
        "episode = 0\n",
        "\n",
        "loc_dict = {'dwarka sector 23': 0, 'dwarka sector 21': 1, 'hauz khaas':2, 'airport':3}\n",
        "line_num = 0\n",
        "rewards = 0\n",
        "frames=[]\n",
        "for line in f:\n",
        "    done = False\n",
        "    pickup, drop, time = fetch_pickup_drop(line)\n",
        "    rewards = 0\n",
        "    state = env.reset()\n",
        "    state = env.encode(random.randint(0,4), random.randint(0,4) , loc_dict[pickup], loc_dict[drop]) # (taxi row, taxi column, passenger index, destination index)\n",
        "    env.s = state\n",
        "    \n",
        "    \n",
        "    for step in range(200):\n",
        "        action = np.argmax(q_table[state,:])\n",
        "        \n",
        "        new_state, reward, done, info = env.step(action)\n",
        "        \n",
        "        rewards += reward\n",
        "        state = new_state\n",
        "        \n",
        "        frames.append({\n",
        "        'episode': episode,\n",
        "        'origin': pickup,\n",
        "        'destination': drop,\n",
        "        'frame': env.render(mode='ansi'),\n",
        "        'state': new_state,\n",
        "        'action': action,\n",
        "        'reward': reward\n",
        "        }\n",
        "        )\n",
        "        \n",
        "        if done:\n",
        "            total_reward.append(rewards)\n",
        "            total_epochs += step\n",
        "            break\n",
        "    if (check_pick_up_drop_correction(pickup, drop, line_num)):\n",
        "        pass\n",
        "    else:\n",
        "        total_penalties+=1\n",
        "        wrong_predictions+=1\n",
        "        total_reward[line_num] -= 10\n",
        "        \n",
        "    \n",
        "    line_num+=1\n",
        "    episode+=1\n",
        "     \n",
        "    \n",
        "total_rewards = 0\n",
        "for i in total_reward:\n",
        "    total_rewards += i\n",
        "total_rewards = total_rewards/num_of_lines\n",
        "\n",
        "\n",
        "print(f\"Results after {num_of_lines} episodes:\")\n",
        "print(f\"Average timesteps per episode: {total_epochs / num_of_lines}\")\n",
        "print(f\"Average penalties per episode: {total_penalties / num_of_lines}\")\n",
        "print(f\"Total number of wrong predictions\", wrong_predictions)\n",
        "print()\n",
        "print(\"Total Reward is\", total_rewards)"
      ],
      "execution_count": 18,
      "outputs": [
        {
          "output_type": "stream",
          "text": [
            "Results after 1000 episodes:\n",
            "Average timesteps per episode: 12.13\n",
            "Average penalties per episode: 0.0\n",
            "Total number of wrong predictions 0\n",
            "\n",
            "Total Reward is 7.87\n"
          ],
          "name": "stdout"
        }
      ]
    },
    {
      "cell_type": "code",
      "metadata": {
        "id": "PEt4q2_iZVsP",
        "colab": {
          "base_uri": "https://localhost:8080/"
        },
        "outputId": "de5b5eaa-da03-4418-a4c7-a47ca5b7fec8"
      },
      "source": [
        "from IPython.display import clear_output\n",
        "from time import sleep\n",
        "\n",
        "def print_frames(frames):\n",
        "    print(frames)\n",
        "    for i, frame in enumerate(frames):\n",
        "        clear_output(wait=True)\n",
        "        print(frame['frame'])\n",
        "        print(f\"Episode: {frame['episode']}, origin: {frame['origin']}, destination: {frame['destination']}\")\n",
        "        print(f\"Timestep: {i + 1}\")\n",
        "        print(f\"State: {frame['state']}\")\n",
        "        print(f\"Action: {frame['action']}\")\n",
        "        print(f\"Reward: {frame['reward']}\")\n",
        "        sleep(0.01)\n",
        "        \n",
        "print_frames(frames)"
      ],
      "execution_count": 16,
      "outputs": [
        {
          "output_type": "stream",
          "text": [
            "+---------+\n",
            "|R: | : :G|\n",
            "| : | : : |\n",
            "| : : : : |\n",
            "| | : | : |\n",
            "|\u001b[35m\u001b[34;1m\u001b[43mY\u001b[0m\u001b[0m\u001b[0m| : |B: |\n",
            "+---------+\n",
            "  (Dropoff)\n",
            "\n",
            "Episode: 999, origin: airport, destination: hauz khaas\n",
            "Timestep: 13115\n",
            "State: 410\n",
            "Action: 5\n",
            "Reward: 20\n"
          ],
          "name": "stdout"
        }
      ]
    },
    {
      "cell_type": "code",
      "metadata": {
        "id": "Ps52Ejib7jbU"
      },
      "source": [
        ""
      ],
      "execution_count": null,
      "outputs": []
    }
  ]
}